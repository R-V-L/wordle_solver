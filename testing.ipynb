{
 "cells": [
  {
   "cell_type": "code",
   "execution_count": 205,
   "metadata": {},
   "outputs": [],
   "source": [
    "import requests\n",
    "from unicodedata import normalize\n",
    "\n",
    "response = requests.get(\n",
    "    \"https://raw.githubusercontent.com/JorgeDuenasLerin/diccionario-espanol-txt/master/0_palabras_todas.txt\"\n",
    ")\n",
    "data = response.text\n",
    "data = data.split(\"\\n\")\n",
    "trans_tab = dict.fromkeys(map(ord, u\"\\u0301\\u0308\"), None)\n",
    "lista_palabras = []\n",
    "tamano_palabra = 5\n",
    "\n",
    "for palabra in data:\n",
    "    if len(palabra) == tamano_palabra:\n",
    "        palabra_normalizada = normalize(\"NFKC\", normalize(\"NFKD\", palabra).translate(trans_tab))\n",
    "        if palabra_normalizada not in lista_palabras:\n",
    "            lista_palabras.append(palabra_normalizada.lower())\n"
   ]
  },
  {
   "cell_type": "code",
   "execution_count": 206,
   "metadata": {},
   "outputs": [
    {
     "name": "stdout",
     "output_type": "stream",
     "text": [
      "corra\n",
      "forra\n",
      "gofra\n",
      "gorra\n",
      "horra\n",
      "loara\n",
      "logra\n",
      "morra\n",
      "sorra\n",
      "toara\n",
      "torra\n"
     ]
    }
   ],
   "source": [
    "no_contiene = ['e', 'i', 'n', 'b', 'u', 'z', 'p', 'd']\n",
    "contiene = ['r']\n",
    "\n",
    "for palabra in lista_palabras:\n",
    "  if not any(x in palabra for x in no_contiene) and all(x in palabra for x in contiene):\n",
    "    # and palabra[1] != 'r' and palabra[2] == 'i' and palabra[3] != 'i' and palabra[3] != 'r' and palabra[4] == 'a':\n",
    "    if palabra[1] == 'o' and palabra[3] == 'r' and palabra[4] == 'a':\n",
    "      print(palabra)\n"
   ]
  }
 ],
 "metadata": {
  "interpreter": {
   "hash": "31f2aee4e71d21fbe5cf8b01ff0e069b9275f58929596ceb00d14d90e3e16cd6"
  },
  "kernelspec": {
   "display_name": "Python 3.8.9 64-bit",
   "language": "python",
   "name": "python3"
  },
  "language_info": {
   "codemirror_mode": {
    "name": "ipython",
    "version": 3
   },
   "file_extension": ".py",
   "mimetype": "text/x-python",
   "name": "python",
   "nbconvert_exporter": "python",
   "pygments_lexer": "ipython3",
   "version": "3.8.9"
  },
  "orig_nbformat": 4
 },
 "nbformat": 4,
 "nbformat_minor": 2
}
